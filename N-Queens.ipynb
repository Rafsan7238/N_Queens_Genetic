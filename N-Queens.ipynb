{
  "nbformat": 4,
  "nbformat_minor": 0,
  "metadata": {
    "colab": {
      "name": "CSE422_Assignment_2.ipynb",
      "provenance": [],
      "collapsed_sections": [],
      "include_colab_link": true
    },
    "kernelspec": {
      "name": "python3",
      "display_name": "Python 3"
    }
  },
  "cells": [
    {
      "cell_type": "markdown",
      "metadata": {
        "id": "view-in-github",
        "colab_type": "text"
      },
      "source": [
        "<a href=\"https://colab.research.google.com/github/Rafsan7238/N_Queens_Genetic/blob/main/N-Queens.ipynb\" target=\"_parent\"><img src=\"https://colab.research.google.com/assets/colab-badge.svg\" alt=\"Open In Colab\"/></a>"
      ]
    },
    {
      "cell_type": "markdown",
      "metadata": {
        "id": "LjGNAQH1OA3l"
      },
      "source": [
        "## CSE422 lab: Genetic Algorithm"
      ]
    },
    {
      "cell_type": "markdown",
      "metadata": {
        "id": "7W2dAmlIEMXj"
      },
      "source": [
        "#### Genetic Algorithm Pseudo code:\n",
        "\n"
      ]
    },
    {
      "cell_type": "markdown",
      "metadata": {
        "id": "gdQcmGl0_jvc"
      },
      "source": [
        "**function** GENETIC-ALGORITHM( population, FITNESS-FN) **returns** an individual \n",
        " \n",
        "> **inputs:** population- a set of individuals/chromosomes; FITNESS-FN- a function that measures the fitness of an individual\n",
        "\n",
        ">**repeat** \n",
        "new_population $\\leftarrow$ empty set \n",
        ">>**for** $i=1$ **to** size ($ population$) **do**\n",
        "$$\n",
        "\\begin{array}{l}\n",
        "x \\leftarrow \\text { RANDOM-SELECTION }(\\text { population, FITNESS-FN }) \\\\\n",
        "y \\leftarrow \\text { RANDOM-SELECTION }(\\text { population, FITNESS-FN }) \\\\\n",
        "child  \\leftarrow \\operatorname{CROSSOVER}(x, y)\n",
        "\\end{array}\n",
        "$$\n",
        ">>>**if** (some_random_number < mutation_threshold) **then** child$\\leftarrow$ MUTATE ( child ) \n",
        "\n",
        ">>>add child to new_population \n",
        "\n",
        ">>population $\\leftarrow$ new_population \n",
        "\n",
        ">**until** some individual is fit enough, or enough time has elapsed\n",
        "\n",
        ">**return** the best individual in population, according to FITNESS-FN\n",
        " \n"
      ]
    },
    {
      "cell_type": "markdown",
      "metadata": {
        "id": "nDkKH11UOHvy"
      },
      "source": [
        "### Skeleton Code:"
      ]
    },
    {
      "cell_type": "markdown",
      "metadata": {
        "id": "Z86D3OcTgZAN"
      },
      "source": [
        "### Importing libraries"
      ]
    },
    {
      "cell_type": "code",
      "metadata": {
        "id": "DVUZn7mX25Zj"
      },
      "source": [
        "import numpy as np\n",
        "import random\n",
        "import copy"
      ],
      "execution_count": null,
      "outputs": []
    },
    {
      "cell_type": "markdown",
      "metadata": {
        "id": "FrkwKxS0gUV5"
      },
      "source": [
        "### Fitness function"
      ]
    },
    {
      "cell_type": "code",
      "metadata": {
        "id": "IvzHLLbTwibx"
      },
      "source": [
        "def findIndividualFitness(individual, n):\n",
        "  '''\n",
        "  given an indivual chromosome, calculates the fitness score and returns it.\n",
        "  '''\n",
        "\n",
        "  max_fitness = (n*(n-1))//2\n",
        "\n",
        "  # find horizontal collisions\n",
        "\n",
        "  horizontal_collision = 0\n",
        "  for queen in individual:\n",
        "    count = 0\n",
        "    for another_queen in individual:\n",
        "      if queen == another_queen:\n",
        "        count += 1\n",
        "    horizontal_collision += (count-1)\n",
        "\n",
        "  horizontal_collision /= 2\n",
        "\n",
        "  # initiate diagonal space on both sides for up and down diagonals\n",
        "\n",
        "  left_diag_space = np.zeros(2*n)\n",
        "  right_diag_space = np.zeros(2*n)\n",
        "\n",
        "  # find overlapping positions for diagonal collisions\n",
        "\n",
        "  for index in range(0, n):\n",
        "    left_diag_space[index + individual[index] - 1] += 1\n",
        "    right_diag_space[n - index + individual[index] - 2] += 1\n",
        "\n",
        "  diag_collision = 0\n",
        "\n",
        "  # find diagonal collisions\n",
        "\n",
        "  for index in range(0, 2*n-1):\n",
        "        count = 0\n",
        "        if left_diag_space[index] > 1:\n",
        "            count += left_diag_space[index]-1\n",
        "        if right_diag_space[index] > 1:\n",
        "            count += right_diag_space[index]-1\n",
        "        diag_collision += (count / (n-abs(index-n+1)))\n",
        "\n",
        "  individual_fitness_score = max_fitness-horizontal_collision-diag_collision\n",
        "\n",
        "  return individual_fitness_score\n"
      ],
      "execution_count": null,
      "outputs": []
    },
    {
      "cell_type": "code",
      "metadata": {
        "id": "CGWWuBT820Uo"
      },
      "source": [
        "def fitness(population, n):\n",
        "\n",
        "  '''calculates the fitness score of each\n",
        "     of the individuals in the population\n",
        "     \n",
        "     returns a 1D numpy array: index referring to \n",
        "     ith individual in population, and value referring \n",
        "     to the fitness score.'''\n",
        "\n",
        "  fitness_score = []\n",
        "\n",
        "  for individual_index in range(0,len(population)):\n",
        "    fitness_score.append(findIndividualFitness(population[individual_index], n))\n",
        "\n",
        "\n",
        "  return fitness_score"
      ],
      "execution_count": null,
      "outputs": []
    },
    {
      "cell_type": "markdown",
      "metadata": {
        "id": "F-5xhfamezBP"
      },
      "source": [
        "### Random Selection function\n",
        "\n",
        "This built-in function might help to create the weighted random selection:\n",
        "\n",
        "`numpy.random.choice(a, size, replace, p)` \n",
        "\n",
        "`p` are the weights of the individuals- value between 0 and 1; refers to the probability of each individual being selected.\n",
        "\n",
        "`a` is the array\n",
        "\n",
        "`size` how many samples to return\n",
        "\n",
        "`replace = True`"
      ]
    },
    {
      "cell_type": "code",
      "metadata": {
        "id": "mCgercZ4_DQ8"
      },
      "source": [
        "def select(population, fit):\n",
        "  ''' take input:  population and fit\n",
        "      fit contains fitness values of each of the individuals \n",
        "      in the population  \n",
        "      \n",
        "      return:  one individual randomly giving\n",
        "      more weight to ones which have high fitness score'''\n",
        "\n",
        "  prob = []\n",
        "\n",
        "  # calculate the weights\n",
        "\n",
        "  for fitness_score in fit:\n",
        "    prob.append(fitness_score/sum(fit))\n",
        "\n",
        "  population_index = []\n",
        "\n",
        "  for i in range(0, len(population)):\n",
        "    population_index.append(i)\n",
        "\n",
        "  random_individual_index = random.choices(population_index, weights=prob, k=1)[0]\n",
        "  random_individual = population[random_individual_index]\n",
        "\n",
        "  \n",
        "  return random_individual"
      ],
      "execution_count": null,
      "outputs": []
    },
    {
      "cell_type": "markdown",
      "metadata": {
        "id": "ysZu4DVmgshV"
      },
      "source": [
        "### Crossover function\n",
        "\n",
        "\n",
        "**function** CROSSOVER $(x, y)$ **returns** an individual \n",
        "\n",
        ">**inputs**: $x, y$  which are the parent individuals\n",
        "\n",
        ">$n \\leftarrow \\mathrm{LENGTH}(x) ; c \\leftarrow$ random number from 1 to $n$ \n",
        "\n",
        ">**return** APPEND(SUBSTRING $(x, 1, c),$ SUBSTRING $(y, c+1, n))$"
      ]
    },
    {
      "cell_type": "code",
      "metadata": {
        "id": "ZtmoFQ9ugwN_"
      },
      "source": [
        "def crossover(x, y):\n",
        "  '''take input: 2 parents - x, y. \n",
        "     Generate a random crossover point. \n",
        "     Append first half of x with second \n",
        "     half of y to create the child\n",
        "     \n",
        "     returns: a child chromosome'''\n",
        "\n",
        "  n = len(x)\n",
        "\n",
        "  crossover_point = random.randrange(n)\n",
        "\n",
        "  list_1 = x[0:crossover_point+1]\n",
        "  list_2 = y[crossover_point+1:n]\n",
        "\n",
        "  child_chromosome = np.concatenate([list_1, list_2])\n",
        "\n",
        "     \n",
        "  return child_chromosome"
      ],
      "execution_count": null,
      "outputs": []
    },
    {
      "cell_type": "markdown",
      "metadata": {
        "id": "RJJuuGbyxzho"
      },
      "source": [
        "###Mutation function"
      ]
    },
    {
      "cell_type": "code",
      "metadata": {
        "id": "zRIG9DXmxzFw"
      },
      "source": [
        "def mutate(child):\n",
        "  '''take input: a child\n",
        "     mutates a random \n",
        "     gene into another random gene\n",
        "     \n",
        "     returns: mutated child'''\n",
        "\n",
        "  n = len(child)\n",
        "  random_index = random.randrange(n)\n",
        "  random_gene = random.randrange(n)\n",
        "\n",
        "  child[random_index] = random_gene\n",
        "  \n",
        "\n",
        "  return child"
      ],
      "execution_count": null,
      "outputs": []
    },
    {
      "cell_type": "markdown",
      "metadata": {
        "id": "yOPop-7n5WYL"
      },
      "source": [
        "### Genetic Algorithm Function"
      ]
    },
    {
      "cell_type": "code",
      "metadata": {
        "id": "uw2sfb9nW_yo"
      },
      "source": [
        "def GA(population, n, mutation_threshold = 0.3):\n",
        "  '''implement the pseudocode here by\n",
        "     calling the necessary functions- Fitness, \n",
        "     Selection, Crossover and Mutation\n",
        "     \n",
        "     print: the max fitness value and the \n",
        "     chromosome that generated it which is ultimately \n",
        "     the solution board'''\n",
        "\n",
        "  search_limit = 100000\n",
        "  goal_fit = (n*(n-1))//2\n",
        "\n",
        "  counter = search_limit\n",
        "\n",
        "  print(f\"Goal fitness for current population: {goal_fit}.\")\n",
        "  print(f\"Population dimension: {n} x {n}.\")\n",
        "  print(f\"Population size: {len(population)}.\")\n",
        "  print(f\"Search limit: {search_limit}.\")\n",
        "\n",
        "  print(\"\\nRunning....\")\n",
        "\n",
        "  while(counter > 0):\n",
        "    fitness_scores = fitness(population, n)\n",
        "\n",
        "    new_population = []\n",
        "\n",
        "    for i in range(0, len(population)):\n",
        "\n",
        "      parent_1 = select(population, fitness_scores)\n",
        "      parent_2 = select(population, fitness_scores)\n",
        "      child = crossover(parent_1, parent_2)\n",
        "\n",
        "      if random.uniform(0,1) < mutation_threshold:\n",
        "        child = mutate(child)\n",
        "\n",
        "      if findIndividualFitness(child, n) == goal_fit:\n",
        "        print(\"....Done\")\n",
        "        print(f\"Result: {child} found in {search_limit-counter} generations.\")\n",
        "        return child\n",
        "\n",
        "      new_population.append(child)\n",
        "\n",
        "    population = np.copy(new_population)\n",
        "    counter -= 1\n",
        "\n",
        "\n",
        "  print(f\"No solutions found in {search_limit} generations. Please try again!\")\n",
        "\n",
        "  return None"
      ],
      "execution_count": null,
      "outputs": []
    },
    {
      "cell_type": "markdown",
      "metadata": {
        "id": "cHKgDnDKb8mh"
      },
      "source": [
        "Running the Genetic Algorithm function"
      ]
    },
    {
      "cell_type": "code",
      "metadata": {
        "id": "01Pz8Q_Jb7qE",
        "colab": {
          "base_uri": "https://localhost:8080/"
        },
        "outputId": "aabe852f-cca0-4482-9806-fc83635e91b4"
      },
      "source": [
        "'''for 8 queen problem, n = 8'''\n",
        "n = 8\n",
        "\n",
        "'''start_population denotes how many individuals/chromosomes are there\n",
        "  in the initial population n = 8'''\n",
        "start_population = 10 \n",
        "\n",
        "'''if you want you can set mutation_threshold to a higher value,\n",
        "   to increase the chances of mutation'''\n",
        "mutation_threshold = 0.3\n",
        "\n",
        "'''creating the population with random integers between 0 to 7 inclusive\n",
        "   for n = 8 queen problem'''\n",
        "population = np.random.randint(0, n, (start_population, n))\n",
        "\n",
        "'''calling the GA function'''\n",
        "result = GA(population, n, mutation_threshold)"
      ],
      "execution_count": null,
      "outputs": [
        {
          "output_type": "stream",
          "text": [
            "Goal fitness for current population: 28.\n",
            "Population dimension: 8 x 8.\n",
            "Population size: 10.\n",
            "Search limit: 100000.\n",
            "\n",
            "Running....\n",
            "....Done\n",
            "Result: [1 4 6 3 0 7 5 2] found in 6983 generations.\n"
          ],
          "name": "stdout"
        }
      ]
    }
  ]
}